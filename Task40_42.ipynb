{
 "cells": [
  {
   "cell_type": "code",
   "execution_count": 41,
   "outputs": [
    {
     "data": {
      "text/plain": "206683.83635227982"
     },
     "execution_count": 41,
     "metadata": {},
     "output_type": "execute_result"
    }
   ],
   "source": [
    "# Задача 40: Работать с файлом california_housing_train.csv, который находится в папке sample_data. Определить среднюю стоимость дома, где кол-во людей от 0 до 500 (population).\n",
    "import pandas as pd\n",
    "file_path = 'D:\\GeekBrains\\Phyton\\Task40\\california_housing_train.csv'\n",
    "df = pd.read_csv(file_path, sep=',')\n",
    "df[df['population'] < 500].medianHouseValue.mean()\n",
    "\n",
    "\n",
    "\n",
    "\n"
   ],
   "metadata": {
    "collapsed": false,
    "ExecuteTime": {
     "end_time": "2023-08-27T12:54:42.861619Z",
     "start_time": "2023-08-27T12:54:42.828416700Z"
    }
   }
  },
  {
   "cell_type": "code",
   "execution_count": 42,
   "outputs": [
    {
     "data": {
      "text/plain": "4"
     },
     "execution_count": 42,
     "metadata": {},
     "output_type": "execute_result"
    }
   ],
   "source": [
    "#Задача 42: Узнать какая максимальная households в зоне минимального значения population.\n",
    "import pandas as pd\n",
    "file_path = 'D:\\GeekBrains\\Phyton\\Task40\\california_housing_train.csv'\n",
    "df = pd.read_csv(file_path, sep=',')\n",
    "df[df['population'] == df['population'].min()].households.max()\n",
    "\n"
   ],
   "metadata": {
    "collapsed": false,
    "ExecuteTime": {
     "end_time": "2023-08-27T12:54:42.922848700Z",
     "start_time": "2023-08-27T12:54:42.863624Z"
    }
   }
  }
 ],
 "metadata": {
  "kernelspec": {
   "display_name": "Python 3",
   "language": "python",
   "name": "python3"
  },
  "language_info": {
   "codemirror_mode": {
    "name": "ipython",
    "version": 2
   },
   "file_extension": ".py",
   "mimetype": "text/x-python",
   "name": "python",
   "nbconvert_exporter": "python",
   "pygments_lexer": "ipython2",
   "version": "2.7.6"
  }
 },
 "nbformat": 4,
 "nbformat_minor": 0
}
